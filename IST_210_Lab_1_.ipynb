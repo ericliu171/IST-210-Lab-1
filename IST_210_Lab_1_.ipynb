{
  "nbformat": 4,
  "nbformat_minor": 0,
  "metadata": {
    "colab": {
      "name": "IST 210 Lab 1 .ipynb",
      "provenance": [],
      "authorship_tag": "ABX9TyNz2UFDd/NDJ5wMXEXCJcVj",
      "include_colab_link": true
    },
    "kernelspec": {
      "name": "python3",
      "display_name": "Python 3"
    }
  },
  "cells": [
    {
      "cell_type": "markdown",
      "metadata": {
        "id": "view-in-github",
        "colab_type": "text"
      },
      "source": [
        "<a href=\"https://colab.research.google.com/github/ericliu171/IST-210-Lab-1/blob/master/IST_210_Lab_1_.ipynb\" target=\"_parent\"><img src=\"https://colab.research.google.com/assets/colab-badge.svg\" alt=\"Open In Colab\"/></a>"
      ]
    },
    {
      "cell_type": "code",
      "metadata": {
        "id": "-xivcWNjAlhX",
        "colab_type": "code",
        "colab": {}
      },
      "source": [
        "\n"
      ],
      "execution_count": null,
      "outputs": []
    },
    {
      "cell_type": "markdown",
      "metadata": {
        "id": "cpLIeMA0EZLx",
        "colab_type": "text"
      },
      "source": [
        ""
      ]
    },
    {
      "cell_type": "markdown",
      "metadata": {
        "id": "cwlxd6tUC_xV",
        "colab_type": "text"
      },
      "source": [
        "### Jupyter notebooks are cool, I guess. I normally use pycharm as my IDE, but I've seen people who prefer Jupyter.\n"
      ]
    },
    {
      "cell_type": "markdown",
      "metadata": {
        "id": "1QP_gtmnHpk6",
        "colab_type": "text"
      },
      "source": [
        "I'm supposed to add a new cell and two sentences, so hi, Dr. Dudas! How are you doing today?"
      ]
    },
    {
      "cell_type": "markdown",
      "metadata": {
        "id": "eNFRTJObH_rR",
        "colab_type": "text"
      },
      "source": [
        "###I'm actually not completly sure right now what I want to learn more about in Jupyter Notebooks."
      ]
    },
    {
      "cell_type": "markdown",
      "metadata": {
        "id": "0DIdYVJ2IjFo",
        "colab_type": "text"
      },
      "source": [
        "How has your day been? I look forward to learning more in your class these coming weeks"
      ]
    },
    {
      "cell_type": "markdown",
      "metadata": {
        "id": "PtIGC98YdnyQ",
        "colab_type": "text"
      },
      "source": [
        "![nice scenery](https://raw.githubusercontent.com/ericliu171/IST-210-Lab-1/master/Images/e8c7c4d4e14a9e3b21faf3d7b37c5b03.jpg)"
      ]
    }
  ]
}